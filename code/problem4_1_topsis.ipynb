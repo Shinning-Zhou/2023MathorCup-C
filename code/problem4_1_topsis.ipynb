{
 "cells": [
  {
   "attachments": {},
   "cell_type": "markdown",
   "metadata": {},
   "source": [
    "计算Road的评分"
   ]
  },
  {
   "cell_type": "code",
   "execution_count": 2,
   "metadata": {},
   "outputs": [
    {
     "name": "stdout",
     "output_type": "stream",
     "text": [
      "特征权重: avg_num    0.686574\n",
      "max_num    0.725146\n",
      "var_num    0.422346\n",
      "dtype: float64\n",
      "排序结果已保存到 Road_topsis_results.csv 文件。\n"
     ]
    },
    {
     "name": "stderr",
     "output_type": "stream",
     "text": [
      "d:\\Applications\\Development\\anaconda\\lib\\site-packages\\pandas\\core\\arraylike.py:397: RuntimeWarning: divide by zero encountered in log\n",
      "  result = getattr(ufunc, method)(*inputs, **kwargs)\n"
     ]
    }
   ],
   "source": [
    "import pandas as pd\n",
    "import numpy as np\n",
    "\n",
    "# 读取数据\n",
    "data = pd.read_csv('data0.csv')\n",
    "\n",
    "# 计算每条线路的平均运输量、最高运输量和运输量的方差\n",
    "grouped_data = data.groupby(['place1', 'place2']).agg({'num': ['mean', 'max', 'var']})\n",
    "grouped_data.columns = ['avg_num', 'max_num', 'var_num']\n",
    "grouped_data.reset_index(inplace=True)\n",
    "\n",
    "# 计算熵权法权重\n",
    "def entropy_weight(data):\n",
    "    p = data / data.sum()\n",
    "    entropy = -(p * np.log(p)).sum()\n",
    "    return (1 - entropy) / (1 - np.log(len(data)))\n",
    "\n",
    "weights = grouped_data[['avg_num', 'max_num', 'var_num']].apply(entropy_weight)\n",
    "print('特征权重:', weights)\n",
    "\n",
    "# 数据标准化\n",
    "normalized_data = grouped_data[['avg_num', 'max_num', 'var_num']] / grouped_data[['avg_num', 'max_num', 'var_num']].max()\n",
    "\n",
    "# 加权标准化\n",
    "weighted_data = normalized_data * weights\n",
    "\n",
    "# 计算正负理想解\n",
    "positive_ideal = weighted_data.max()\n",
    "negative_ideal = weighted_data.min()\n",
    "\n",
    "# 计算各方案到正负理想解的距离\n",
    "distance_positive = np.sqrt(((weighted_data - positive_ideal) ** 2).sum(axis=1))\n",
    "distance_negative = np.sqrt(((weighted_data - negative_ideal) ** 2).sum(axis=1))\n",
    "\n",
    "# 计算相对接近度\n",
    "relative_closeness = distance_negative / (distance_positive + distance_negative)\n",
    "\n",
    "# 将相对接近度添加到原始数据表\n",
    "grouped_data['closeness'] = relative_closeness\n",
    "\n",
    "# 按相对接近度降序排列\n",
    "sorted_data = grouped_data.sort_values('closeness', ascending=False)\n",
    "\n",
    "# 保存结果到CSV文件\n",
    "sorted_data.to_csv('Road_topsis_results.csv', index=False)\n",
    "\n",
    "print('排序结果已保存到 Road_topsis_results.csv 文件。')\n"
   ]
  },
  {
   "attachments": {},
   "cell_type": "markdown",
   "metadata": {},
   "source": [
    "计算Node的评分"
   ]
  },
  {
   "cell_type": "code",
   "execution_count": 1,
   "metadata": {},
   "outputs": [
    {
     "name": "stdout",
     "output_type": "stream",
     "text": [
      "特征权重: avg_received    0.459899\n",
      "max_received    0.443457\n",
      "avg_sent        0.736051\n",
      "max_sent        0.749402\n",
      "routes          0.807868\n",
      "dtype: float64\n",
      "排序结果已保存到 Node_topsis_results.csv 文件。\n"
     ]
    }
   ],
   "source": [
    "import pandas as pd\n",
    "import numpy as np\n",
    "\n",
    "# 读取数据\n",
    "data = pd.read_csv('data0.csv')\n",
    "\n",
    "# 计算每个结点的平均收货量、最高收货量、平均发货量、最高发货量\n",
    "received = data.groupby('place2').agg({'num': ['mean', 'max']})\n",
    "received.columns = ['avg_received', 'max_received']\n",
    "received.reset_index(inplace=True)\n",
    "\n",
    "sent = data.groupby('place1').agg({'num': ['mean', 'max']})\n",
    "sent.columns = ['avg_sent', 'max_sent']\n",
    "sent.reset_index(inplace=True)\n",
    "\n",
    "# 计算与结点相关的线路数\n",
    "routes_place1 = data.groupby('place1').agg({'place2': 'count'}).reset_index().rename(columns={'place1': 'place', 'place2': 'routes'})\n",
    "routes_place2 = data.groupby('place2').agg({'place1': 'count'}).reset_index().rename(columns={'place2': 'place', 'place1': 'routes'})\n",
    "\n",
    "# 合并统计信息\n",
    "routes = pd.concat([routes_place1, routes_place2]).groupby('place').sum().reset_index()\n",
    "node_data = pd.merge(pd.merge(received, sent, left_on='place2', right_on='place1'), routes, left_on='place1', right_on='place').drop(columns=['place1', 'place2'])\n",
    "\n",
    "# 计算熵权法权重\n",
    "def entropy_weight(data):\n",
    "    p = data / data.sum()\n",
    "    entropy = -(p * np.log(p)).sum()\n",
    "    return (1 - entropy) / (1 - np.log(len(data)))\n",
    "\n",
    "weights = node_data[['avg_received', 'max_received', 'avg_sent', 'max_sent', 'routes']].apply(entropy_weight)\n",
    "print('特征权重:', weights)\n",
    "\n",
    "# 数据标准化\n",
    "normalized_data = node_data[['avg_received', 'max_received', 'avg_sent', 'max_sent', 'routes']] / node_data[['avg_received', 'max_received', 'avg_sent', 'max_sent', 'routes']].max()\n",
    "\n",
    "# 加权标准化\n",
    "weighted_data = normalized_data * weights\n",
    "\n",
    "# 计算正负理想解\n",
    "positive_ideal = weighted_data.max()\n",
    "negative_ideal = weighted_data.min()\n",
    "\n",
    "# 计算各方案到正负理想解的距离\n",
    "distance_positive = np.sqrt(((weighted_data - positive_ideal) ** 2).sum(axis=1))\n",
    "distance_negative = np.sqrt(((weighted_data - negative_ideal) ** 2).sum(axis=1))\n",
    "\n",
    "# 计算相对接近度\n",
    "relative_closeness = distance_negative / (distance_positive + distance_negative)\n",
    "\n",
    "# 将相对接近度添加到原始数据表\n",
    "node_data['closeness'] = relative_closeness\n",
    "\n",
    "# 按相对接近度降序排列\n",
    "sorted_data = node_data.sort_values('closeness', ascending=False)\n",
    "\n",
    "# 保存结果到CSV文件\n",
    "sorted_data.to_csv('Node_topsis_results.csv', index=False)\n",
    "\n",
    "print('排序结果已保存到 Node_topsis_results.csv 文件。')\n"
   ]
  }
 ],
 "metadata": {
  "kernelspec": {
   "display_name": "base",
   "language": "python",
   "name": "python3"
  },
  "language_info": {
   "codemirror_mode": {
    "name": "ipython",
    "version": 3
   },
   "file_extension": ".py",
   "mimetype": "text/x-python",
   "name": "python",
   "nbconvert_exporter": "python",
   "pygments_lexer": "ipython3",
   "version": "3.9.13"
  },
  "orig_nbformat": 4
 },
 "nbformat": 4,
 "nbformat_minor": 2
}
